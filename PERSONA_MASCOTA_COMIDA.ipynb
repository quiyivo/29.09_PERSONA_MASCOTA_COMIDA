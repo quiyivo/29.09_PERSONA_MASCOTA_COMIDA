{
 "cells": [
  {
   "cell_type": "code",
   "execution_count": null,
   "metadata": {
    "collapsed": true
   },
   "outputs": [],
   "source": [
    "# Relación Persona -> Mascota -> Comidas\n",
    "# Una persona puede tener n mascotas, una Mascota puede tener n comidas, y una Mascota solo puede tener una Persona\n"
   ]
  },
  {
   "cell_type": "code",
   "execution_count": 72,
   "metadata": {},
   "outputs": [
    {
     "name": "stdout",
     "output_type": "stream",
     "text": [
      "Quiero a mi mascota\n"
     ]
    }
   ],
   "source": [
    "class PERSONA():\n",
    "    'me gustan las mascotas'\n",
    "    \n",
    "    def __init__(self,mascota, ganasdejugar):\n",
    "        self.mascota=mascota\n",
    "        self.ganasdejugar=ganasdejugar\n",
    "    print \"Quiero a mi mascota\"\n",
    "    \n",
    "    def tengo_mascota(self):\n",
    "        if self.mascota=='':\n",
    "            print \"no tengo mascota\"\n",
    "        else:\n",
    "            print \"mi mascota se llama \" + self.mascota\n",
    "    \n",
    "    def yo_juego(self):\n",
    "        if self.ganasdejugar>5:\n",
    "            self.ganasdejugar-=1\n",
    "            print \"Yo juego!!\"\n",
    "        else:\n",
    "            self.ganasdejugar+=1\n",
    "            print \"NO\"\n",
    "            \n",
    "    def jugar_con_mascota(self):\n",
    "        self.yo_juego()\n",
    "        mascota.juguemos()"
   ]
  },
  {
   "cell_type": "code",
   "execution_count": 79,
   "metadata": {},
   "outputs": [],
   "source": [
    "class mascota():\n",
    "    def __init__(self,nombre,ganasdejugar):\n",
    "        self.ganasdejugar=ganasdejugar\n",
    "\n",
    "    \n",
    "    def juguemos(self):\n",
    "        if self.ganasdejugar>3:\n",
    "            self.ganasdejugar-=1\n",
    "            print \"guagua\"\n",
    "        else:\n",
    "            self.ganasdejugar+=1\n",
    "            print \"grr\"       \n",
    "    \n",
    "    def comer(self,comida):\n",
    "        dummy=comida()\n",
    "        print \"Ya comi\"\n",
    "        "
   ]
  },
  {
   "cell_type": "code",
   "execution_count": 80,
   "metadata": {},
   "outputs": [],
   "source": [
    "class comida():\n",
    "    \n",
    "    def servir(self):\n",
    "        print \"Ya no tengo hambre\"\n",
    "        return -1"
   ]
  },
  {
   "cell_type": "code",
   "execution_count": 81,
   "metadata": {},
   "outputs": [],
   "source": [
    "p=mascota(\"Rey\",5)\n",
    "c=comida()"
   ]
  },
  {
   "cell_type": "code",
   "execution_count": 82,
   "metadata": {},
   "outputs": [
    {
     "name": "stdout",
     "output_type": "stream",
     "text": [
      "Ya no tengo hambre\n",
      "Ya comi\n"
     ]
    }
   ],
   "source": [
    "p.comer(c.servir)"
   ]
  },
  {
   "cell_type": "code",
   "execution_count": 86,
   "metadata": {},
   "outputs": [],
   "source": [
    "a=PERSONA(p,8)"
   ]
  },
  {
   "cell_type": "code",
   "execution_count": 94,
   "metadata": {},
   "outputs": [
    {
     "name": "stdout",
     "output_type": "stream",
     "text": [
      "Yo juego!!\n"
     ]
    }
   ],
   "source": [
    "a.yo_juego()"
   ]
  },
  {
   "cell_type": "code",
   "execution_count": null,
   "metadata": {
    "collapsed": true
   },
   "outputs": [],
   "source": []
  },
  {
   "cell_type": "code",
   "execution_count": null,
   "metadata": {
    "collapsed": true
   },
   "outputs": [],
   "source": []
  }
 ],
 "metadata": {
  "kernelspec": {
   "display_name": "Python 2",
   "language": "python",
   "name": "python2"
  },
  "language_info": {
   "codemirror_mode": {
    "name": "ipython",
    "version": 2
   },
   "file_extension": ".py",
   "mimetype": "text/x-python",
   "name": "python",
   "nbconvert_exporter": "python",
   "pygments_lexer": "ipython2",
   "version": "2.7.13"
  }
 },
 "nbformat": 4,
 "nbformat_minor": 2
}
